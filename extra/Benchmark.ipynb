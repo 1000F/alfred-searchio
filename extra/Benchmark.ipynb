{
 "cells": [
  {
   "cell_type": "code",
   "execution_count": 9,
   "metadata": {},
   "outputs": [],
   "source": [
    "import os\n",
    "import subprocess\n",
    "from time import time\n",
    "\n",
    "def bench(cmd, reps=10):\n",
    "    times = []\n",
    "    for i in range(reps):\n",
    "        s = time()\n",
    "        subprocess.call(cmd)\n",
    "        d = time() - s\n",
    "        times.append(d)\n",
    "        print('{:02d}. {:0.3f}s'.format(i + 1, d))\n",
    "\n",
    "    av = sum(times) / float(reps)\n",
    "    print('-' * 15)\n",
    "    print('{:0.3f}s/run'.format(av))\n"
   ]
  },
  {
   "cell_type": "code",
   "execution_count": 10,
   "metadata": {},
   "outputs": [],
   "source": [
    "REPS = 10\n",
    "QUERY = 'quim'"
   ]
  },
  {
   "cell_type": "code",
   "execution_count": 11,
   "metadata": {
    "scrolled": true
   },
   "outputs": [
    {
     "name": "stdout",
     "output_type": "stream",
     "text": [
      "01. 0.664s\n",
      "02. 0.343s\n",
      "03. 0.351s\n",
      "04. 0.340s\n",
      "05. 0.368s\n",
      "06. 0.392s\n",
      "07. 0.343s\n",
      "08. 0.338s\n",
      "09. 0.343s\n",
      "10. 0.360s\n",
      "---------------\n",
      "0.384s/run\n"
     ]
    }
   ],
   "source": [
    "bench(['./searchio', 'search', 'google-en', QUERY], REPS)"
   ]
  },
  {
   "cell_type": "code",
   "execution_count": 12,
   "metadata": {},
   "outputs": [
    {
     "name": "stdout",
     "output_type": "stream",
     "text": [
      "01. 0.347s\n",
      "02. 0.033s\n",
      "03. 0.025s\n",
      "04. 0.024s\n",
      "05. 0.025s\n",
      "06. 0.024s\n",
      "07. 0.027s\n",
      "08. 0.025s\n",
      "09. 0.025s\n",
      "10. 0.026s\n",
      "---------------\n",
      "0.058s/run\n"
     ]
    }
   ],
   "source": [
    "bench(['./search', 'google-en', QUERY], REPS)"
   ]
  }
 ],
 "metadata": {
  "kernelspec": {
   "display_name": "Python 2",
   "language": "python",
   "name": "python2"
  },
  "language_info": {
   "codemirror_mode": {
    "name": "ipython",
    "version": 2
   },
   "file_extension": ".py",
   "mimetype": "text/x-python",
   "name": "python",
   "nbconvert_exporter": "python",
   "pygments_lexer": "ipython2",
   "version": "2.7.14"
  }
 },
 "nbformat": 4,
 "nbformat_minor": 2
}
